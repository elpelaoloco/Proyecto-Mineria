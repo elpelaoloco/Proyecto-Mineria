{
  "cells": [
    {
      "cell_type": "code",
      "execution_count": 1,
      "metadata": {
        "id": "Q57XE36i3QvJ"
      },
      "outputs": [],
      "source": [
        "import itertools\n",
        "import numpy as np\n",
        "import pandas as pd\n",
        "import seaborn as sn\n",
        "import matplotlib.pyplot as plt\n",
        "from sklearn.metrics import classification_report, accuracy_score\n",
        "from sklearn.decomposition import PCA\n",
        "from sklearn.preprocessing import minmax_scale\n",
        "from sklearn.model_selection import train_test_split\n",
        "from sklearn.feature_extraction import DictVectorizer\n",
        "from sklearn.preprocessing import MinMaxScaler\n",
        "from sklearn import preprocessing\n",
        "import tensorflow as tf\n",
        "from tensorflow import keras\n",
        "from keras.models import Sequential, Model\n",
        "from keras.layers import Dense, Embedding, Input, Dropout"
      ]
    },
    {
      "cell_type": "code",
      "source": [
        "from google.colab import files\n",
        "uploaded = files.upload()\n"
      ],
      "metadata": {
        "colab": {
          "base_uri": "https://localhost:8080/",
          "height": 73
        },
        "id": "ckrGwqTY3TuT",
        "outputId": "c8db118a-5a89-4b93-9198-cb62b2b097ed"
      },
      "execution_count": 2,
      "outputs": [
        {
          "output_type": "display_data",
          "data": {
            "text/plain": [
              "<IPython.core.display.HTML object>"
            ],
            "text/html": [
              "\n",
              "     <input type=\"file\" id=\"files-4cb6133d-9960-4b08-8a92-841c30976080\" name=\"files[]\" multiple disabled\n",
              "        style=\"border:none\" />\n",
              "     <output id=\"result-4cb6133d-9960-4b08-8a92-841c30976080\">\n",
              "      Upload widget is only available when the cell has been executed in the\n",
              "      current browser session. Please rerun this cell to enable.\n",
              "      </output>\n",
              "      <script>// Copyright 2017 Google LLC\n",
              "//\n",
              "// Licensed under the Apache License, Version 2.0 (the \"License\");\n",
              "// you may not use this file except in compliance with the License.\n",
              "// You may obtain a copy of the License at\n",
              "//\n",
              "//      http://www.apache.org/licenses/LICENSE-2.0\n",
              "//\n",
              "// Unless required by applicable law or agreed to in writing, software\n",
              "// distributed under the License is distributed on an \"AS IS\" BASIS,\n",
              "// WITHOUT WARRANTIES OR CONDITIONS OF ANY KIND, either express or implied.\n",
              "// See the License for the specific language governing permissions and\n",
              "// limitations under the License.\n",
              "\n",
              "/**\n",
              " * @fileoverview Helpers for google.colab Python module.\n",
              " */\n",
              "(function(scope) {\n",
              "function span(text, styleAttributes = {}) {\n",
              "  const element = document.createElement('span');\n",
              "  element.textContent = text;\n",
              "  for (const key of Object.keys(styleAttributes)) {\n",
              "    element.style[key] = styleAttributes[key];\n",
              "  }\n",
              "  return element;\n",
              "}\n",
              "\n",
              "// Max number of bytes which will be uploaded at a time.\n",
              "const MAX_PAYLOAD_SIZE = 100 * 1024;\n",
              "\n",
              "function _uploadFiles(inputId, outputId) {\n",
              "  const steps = uploadFilesStep(inputId, outputId);\n",
              "  const outputElement = document.getElementById(outputId);\n",
              "  // Cache steps on the outputElement to make it available for the next call\n",
              "  // to uploadFilesContinue from Python.\n",
              "  outputElement.steps = steps;\n",
              "\n",
              "  return _uploadFilesContinue(outputId);\n",
              "}\n",
              "\n",
              "// This is roughly an async generator (not supported in the browser yet),\n",
              "// where there are multiple asynchronous steps and the Python side is going\n",
              "// to poll for completion of each step.\n",
              "// This uses a Promise to block the python side on completion of each step,\n",
              "// then passes the result of the previous step as the input to the next step.\n",
              "function _uploadFilesContinue(outputId) {\n",
              "  const outputElement = document.getElementById(outputId);\n",
              "  const steps = outputElement.steps;\n",
              "\n",
              "  const next = steps.next(outputElement.lastPromiseValue);\n",
              "  return Promise.resolve(next.value.promise).then((value) => {\n",
              "    // Cache the last promise value to make it available to the next\n",
              "    // step of the generator.\n",
              "    outputElement.lastPromiseValue = value;\n",
              "    return next.value.response;\n",
              "  });\n",
              "}\n",
              "\n",
              "/**\n",
              " * Generator function which is called between each async step of the upload\n",
              " * process.\n",
              " * @param {string} inputId Element ID of the input file picker element.\n",
              " * @param {string} outputId Element ID of the output display.\n",
              " * @return {!Iterable<!Object>} Iterable of next steps.\n",
              " */\n",
              "function* uploadFilesStep(inputId, outputId) {\n",
              "  const inputElement = document.getElementById(inputId);\n",
              "  inputElement.disabled = false;\n",
              "\n",
              "  const outputElement = document.getElementById(outputId);\n",
              "  outputElement.innerHTML = '';\n",
              "\n",
              "  const pickedPromise = new Promise((resolve) => {\n",
              "    inputElement.addEventListener('change', (e) => {\n",
              "      resolve(e.target.files);\n",
              "    });\n",
              "  });\n",
              "\n",
              "  const cancel = document.createElement('button');\n",
              "  inputElement.parentElement.appendChild(cancel);\n",
              "  cancel.textContent = 'Cancel upload';\n",
              "  const cancelPromise = new Promise((resolve) => {\n",
              "    cancel.onclick = () => {\n",
              "      resolve(null);\n",
              "    };\n",
              "  });\n",
              "\n",
              "  // Wait for the user to pick the files.\n",
              "  const files = yield {\n",
              "    promise: Promise.race([pickedPromise, cancelPromise]),\n",
              "    response: {\n",
              "      action: 'starting',\n",
              "    }\n",
              "  };\n",
              "\n",
              "  cancel.remove();\n",
              "\n",
              "  // Disable the input element since further picks are not allowed.\n",
              "  inputElement.disabled = true;\n",
              "\n",
              "  if (!files) {\n",
              "    return {\n",
              "      response: {\n",
              "        action: 'complete',\n",
              "      }\n",
              "    };\n",
              "  }\n",
              "\n",
              "  for (const file of files) {\n",
              "    const li = document.createElement('li');\n",
              "    li.append(span(file.name, {fontWeight: 'bold'}));\n",
              "    li.append(span(\n",
              "        `(${file.type || 'n/a'}) - ${file.size} bytes, ` +\n",
              "        `last modified: ${\n",
              "            file.lastModifiedDate ? file.lastModifiedDate.toLocaleDateString() :\n",
              "                                    'n/a'} - `));\n",
              "    const percent = span('0% done');\n",
              "    li.appendChild(percent);\n",
              "\n",
              "    outputElement.appendChild(li);\n",
              "\n",
              "    const fileDataPromise = new Promise((resolve) => {\n",
              "      const reader = new FileReader();\n",
              "      reader.onload = (e) => {\n",
              "        resolve(e.target.result);\n",
              "      };\n",
              "      reader.readAsArrayBuffer(file);\n",
              "    });\n",
              "    // Wait for the data to be ready.\n",
              "    let fileData = yield {\n",
              "      promise: fileDataPromise,\n",
              "      response: {\n",
              "        action: 'continue',\n",
              "      }\n",
              "    };\n",
              "\n",
              "    // Use a chunked sending to avoid message size limits. See b/62115660.\n",
              "    let position = 0;\n",
              "    do {\n",
              "      const length = Math.min(fileData.byteLength - position, MAX_PAYLOAD_SIZE);\n",
              "      const chunk = new Uint8Array(fileData, position, length);\n",
              "      position += length;\n",
              "\n",
              "      const base64 = btoa(String.fromCharCode.apply(null, chunk));\n",
              "      yield {\n",
              "        response: {\n",
              "          action: 'append',\n",
              "          file: file.name,\n",
              "          data: base64,\n",
              "        },\n",
              "      };\n",
              "\n",
              "      let percentDone = fileData.byteLength === 0 ?\n",
              "          100 :\n",
              "          Math.round((position / fileData.byteLength) * 100);\n",
              "      percent.textContent = `${percentDone}% done`;\n",
              "\n",
              "    } while (position < fileData.byteLength);\n",
              "  }\n",
              "\n",
              "  // All done.\n",
              "  yield {\n",
              "    response: {\n",
              "      action: 'complete',\n",
              "    }\n",
              "  };\n",
              "}\n",
              "\n",
              "scope.google = scope.google || {};\n",
              "scope.google.colab = scope.google.colab || {};\n",
              "scope.google.colab._files = {\n",
              "  _uploadFiles,\n",
              "  _uploadFilesContinue,\n",
              "};\n",
              "})(self);\n",
              "</script> "
            ]
          },
          "metadata": {}
        },
        {
          "output_type": "stream",
          "name": "stdout",
          "text": [
            "Saving df.csv to df.csv\n"
          ]
        }
      ]
    },
    {
      "cell_type": "code",
      "source": [
        "import io\n",
        "dframe = pd.read_csv(io.BytesIO(uploaded['df.csv']))"
      ],
      "metadata": {
        "id": "fcHefhAu3d4g"
      },
      "execution_count": 3,
      "outputs": []
    },
    {
      "cell_type": "code",
      "execution_count": 4,
      "metadata": {
        "colab": {
          "base_uri": "https://localhost:8080/"
        },
        "id": "bz1h-sSM3QvN",
        "outputId": "2a8a52c8-8dd3-4d18-9165-1ab20c0d818c"
      },
      "outputs": [
        {
          "output_type": "execute_result",
          "data": {
            "text/plain": [
              "(124855, 23)"
            ]
          },
          "metadata": {},
          "execution_count": 4
        }
      ],
      "source": [
        "#dframe = pd.read_csv(\"df.csv\", encoding = \"ISO-8859-1\")\n",
        "x_df = dframe.drop(['satisfaction'], axis=1) #Se eliminan time y amount porque no son un parametro util como los V...., Class se elimina porque estamos entrenando al modelo, y para eso no le tenemos que entregar las respuestas directamente\n",
        "vectorizer = DictVectorizer(sparse=False)\n",
        "X = vectorizer.fit_transform(x_df.to_dict(\"records\"))\n",
        "X.shape\n"
      ]
    },
    {
      "cell_type": "code",
      "execution_count": 5,
      "metadata": {
        "colab": {
          "base_uri": "https://localhost:8080/"
        },
        "id": "N4VP-kAG3QvP",
        "outputId": "a1813494-1d3d-41e8-af1d-721f9507f136"
      },
      "outputs": [
        {
          "output_type": "execute_result",
          "data": {
            "text/plain": [
              "(124855,)"
            ]
          },
          "metadata": {},
          "execution_count": 5
        }
      ],
      "source": [
        "y = dframe.satisfaction.values\n",
        "classes = np.unique(y)\n",
        "y.shape"
      ]
    },
    {
      "cell_type": "code",
      "execution_count": 6,
      "metadata": {
        "id": "MqsoTdY93QvP"
      },
      "outputs": [],
      "source": [
        "X_train, X_test, y_train, y_test = train_test_split(X, y, test_size=0.2,random_state=109, stratify=y)\n",
        "X_train, X_val , y_train, y_val =train_test_split(X_train, y_train, test_size=0.2,random_state=109)"
      ]
    },
    {
      "cell_type": "code",
      "execution_count": null,
      "metadata": {
        "colab": {
          "base_uri": "https://localhost:8080/"
        },
        "id": "XdxEDwam3QvP",
        "outputId": "40a7a801-d5fe-4b8f-e1d9-1de19be6df9a"
      },
      "outputs": [
        {
          "output_type": "execute_result",
          "data": {
            "text/plain": [
              "(79907, 23)"
            ]
          },
          "metadata": {},
          "execution_count": 7
        }
      ],
      "source": [
        "X_train.shape"
      ]
    },
    {
      "cell_type": "code",
      "execution_count": null,
      "metadata": {
        "notebookRunGroups": {
          "groupValue": "1"
        },
        "id": "1w7gXYba3QvQ"
      },
      "outputs": [],
      "source": [
        "#embeddings_layer = Embedding(input_dim=inp_dim, output_dim=8, input_length=11, trainable=True)\n",
        "\n",
        "dense1 = Dense(36, activation=\"sigmoid\")\n",
        "dense2 = Dense(256, activation=\"tanh\")#####se intento poner capa 2 aumentarla a 60 y la 3 de 160 a 210\n",
        "dense3 = Dense(512, activation=\"sigmoid\")\n",
        "dense5 = Dense(64, activation=\"relu\")\n",
        "dense6 = Dense(9, activation=\"sigmoid\")"
      ]
    },
    {
      "cell_type": "code",
      "execution_count": null,
      "metadata": {
        "notebookRunGroups": {
          "groupValue": "1"
        },
        "colab": {
          "base_uri": "https://localhost:8080/"
        },
        "id": "_njIbhx53QvQ",
        "outputId": "d4229fd8-4a5e-4e62-f66c-aaa5e19a5141"
      },
      "outputs": [
        {
          "output_type": "stream",
          "name": "stdout",
          "text": [
            "KerasTensor(type_spec=TensorSpec(shape=(None, 23), dtype=tf.float32, name='input_3'), name='input_3', description=\"created by layer 'input_3'\")\n"
          ]
        }
      ],
      "source": [
        "input = Input(shape=(23, ))\n",
        "print(input)\n",
        "x = dense1(input)\n",
        "x = dense2(x)\n",
        "x = dense3(x)\n",
        "x = dense5(x)\n",
        "outputs = dense6(x)\n"
      ]
    },
    {
      "cell_type": "code",
      "execution_count": null,
      "metadata": {
        "notebookRunGroups": {
          "groupValue": "1"
        },
        "colab": {
          "base_uri": "https://localhost:8080/"
        },
        "id": "At_w7H_f3QvQ",
        "outputId": "d194b524-3a43-4edd-bf67-4844eae04401"
      },
      "outputs": [
        {
          "output_type": "stream",
          "name": "stdout",
          "text": [
            "Model: \"model_1\"\n",
            "_________________________________________________________________\n",
            " Layer (type)                Output Shape              Param #   \n",
            "=================================================================\n",
            " input_3 (InputLayer)        [(None, 23)]              0         \n",
            "                                                                 \n",
            " dense_5 (Dense)             (None, 36)                864       \n",
            "                                                                 \n",
            " dense_6 (Dense)             (None, 256)               9472      \n",
            "                                                                 \n",
            " dense_7 (Dense)             (None, 512)               131584    \n",
            "                                                                 \n",
            " dense_8 (Dense)             (None, 64)                32832     \n",
            "                                                                 \n",
            " dense_9 (Dense)             (None, 9)                 585       \n",
            "                                                                 \n",
            "=================================================================\n",
            "Total params: 175,337\n",
            "Trainable params: 175,337\n",
            "Non-trainable params: 0\n",
            "_________________________________________________________________\n"
          ]
        }
      ],
      "source": [
        "model = Model(inputs=input, outputs=outputs)\n",
        "\n",
        "model.summary()"
      ]
    },
    {
      "cell_type": "code",
      "execution_count": null,
      "metadata": {
        "notebookRunGroups": {
          "groupValue": "1"
        },
        "id": "DDyd4fWd3QvR"
      },
      "outputs": [],
      "source": [
        "model.compile(optimizer=\"adadelta\", loss=\"sparse_categorical_crossentropy\", metrics=[\"accuracy\"]) # se cambio de adam a adadelta y mejoro a 61. si se parte como adadelta  no da buenos resultados, pero si se parte con adam y luego pasamos a adadleta mejore"
      ]
    },
    {
      "cell_type": "code",
      "execution_count": null,
      "metadata": {
        "notebookRunGroups": {
          "groupValue": "1"
        },
        "id": "OxIbPwUF3QvR"
      },
      "outputs": [],
      "source": [
        "callback = tf.keras.callbacks.EarlyStopping(monitor='val_accuracy', patience=10) # se cambio monitor de los a val accuracy, a medida va mejorando accuracy ir disminiuyendo patience"
      ]
    },
    {
      "cell_type": "code",
      "execution_count": null,
      "metadata": {
        "notebookRunGroups": {
          "groupValue": "1"
        },
        "colab": {
          "base_uri": "https://localhost:8080/"
        },
        "id": "obUOFyfU3QvS",
        "outputId": "f1e3ac8b-ae22-4e56-ea7e-832c66512813"
      },
      "outputs": [
        {
          "output_type": "stream",
          "name": "stdout",
          "text": [
            "Epoch 1/50\n",
            "3996/3996 [==============================] - 19s 4ms/step - loss: 1.1740 - accuracy: 0.5425 - val_loss: 0.7629 - val_accuracy: 0.5679\n",
            "Epoch 2/50\n",
            "3996/3996 [==============================] - 18s 4ms/step - loss: 0.7150 - accuracy: 0.5642 - val_loss: 0.6884 - val_accuracy: 0.5679\n",
            "Epoch 3/50\n",
            "3996/3996 [==============================] - 18s 5ms/step - loss: 0.6793 - accuracy: 0.5642 - val_loss: 0.6704 - val_accuracy: 0.5679\n",
            "Epoch 4/50\n",
            "3996/3996 [==============================] - 17s 4ms/step - loss: 0.6651 - accuracy: 0.5642 - val_loss: 0.6585 - val_accuracy: 0.5679\n",
            "Epoch 5/50\n",
            "3996/3996 [==============================] - 18s 4ms/step - loss: 0.6535 - accuracy: 0.5642 - val_loss: 0.6469 - val_accuracy: 0.5679\n",
            "Epoch 6/50\n",
            "3996/3996 [==============================] - 17s 4ms/step - loss: 0.6414 - accuracy: 0.5670 - val_loss: 0.6344 - val_accuracy: 0.6145\n",
            "Epoch 7/50\n",
            "3996/3996 [==============================] - 18s 4ms/step - loss: 0.6278 - accuracy: 0.6312 - val_loss: 0.6198 - val_accuracy: 0.7665\n",
            "Epoch 8/50\n",
            "3996/3996 [==============================] - 17s 4ms/step - loss: 0.6117 - accuracy: 0.7501 - val_loss: 0.6027 - val_accuracy: 0.7829\n",
            "Epoch 9/50\n",
            "3996/3996 [==============================] - 17s 4ms/step - loss: 0.5939 - accuracy: 0.8022 - val_loss: 0.5845 - val_accuracy: 0.8273\n",
            "Epoch 10/50\n",
            "3996/3996 [==============================] - 17s 4ms/step - loss: 0.5739 - accuracy: 0.8243 - val_loss: 0.5635 - val_accuracy: 0.8292\n",
            "Epoch 11/50\n",
            "3996/3996 [==============================] - 17s 4ms/step - loss: 0.5523 - accuracy: 0.8295 - val_loss: 0.5416 - val_accuracy: 0.8311\n",
            "Epoch 12/50\n",
            "3996/3996 [==============================] - 17s 4ms/step - loss: 0.5300 - accuracy: 0.8315 - val_loss: 0.5191 - val_accuracy: 0.8303\n",
            "Epoch 13/50\n",
            "3996/3996 [==============================] - 20s 5ms/step - loss: 0.5075 - accuracy: 0.8320 - val_loss: 0.4973 - val_accuracy: 0.8316\n",
            "Epoch 14/50\n",
            "3996/3996 [==============================] - 17s 4ms/step - loss: 0.4864 - accuracy: 0.8321 - val_loss: 0.4774 - val_accuracy: 0.8304\n",
            "Epoch 15/50\n",
            "3996/3996 [==============================] - 18s 5ms/step - loss: 0.4672 - accuracy: 0.8319 - val_loss: 0.4597 - val_accuracy: 0.8301\n",
            "Epoch 16/50\n",
            "3996/3996 [==============================] - 18s 4ms/step - loss: 0.4505 - accuracy: 0.8329 - val_loss: 0.4443 - val_accuracy: 0.8309\n",
            "Epoch 17/50\n",
            "3996/3996 [==============================] - 17s 4ms/step - loss: 0.4365 - accuracy: 0.8331 - val_loss: 0.4322 - val_accuracy: 0.8306\n",
            "Epoch 18/50\n",
            "3996/3996 [==============================] - 17s 4ms/step - loss: 0.4251 - accuracy: 0.8332 - val_loss: 0.4217 - val_accuracy: 0.8324\n",
            "Epoch 19/50\n",
            "3996/3996 [==============================] - 17s 4ms/step - loss: 0.4159 - accuracy: 0.8341 - val_loss: 0.4137 - val_accuracy: 0.8331\n",
            "Epoch 20/50\n",
            "3996/3996 [==============================] - 17s 4ms/step - loss: 0.4086 - accuracy: 0.8351 - val_loss: 0.4071 - val_accuracy: 0.8345\n",
            "Epoch 21/50\n",
            "3996/3996 [==============================] - 18s 5ms/step - loss: 0.4028 - accuracy: 0.8361 - val_loss: 0.4019 - val_accuracy: 0.8359\n",
            "Epoch 22/50\n",
            "3996/3996 [==============================] - 16s 4ms/step - loss: 0.3978 - accuracy: 0.8371 - val_loss: 0.3976 - val_accuracy: 0.8375\n",
            "Epoch 23/50\n",
            "3996/3996 [==============================] - 17s 4ms/step - loss: 0.3937 - accuracy: 0.8386 - val_loss: 0.3937 - val_accuracy: 0.8384\n",
            "Epoch 24/50\n",
            "3996/3996 [==============================] - 19s 5ms/step - loss: 0.3902 - accuracy: 0.8398 - val_loss: 0.3905 - val_accuracy: 0.8401\n",
            "Epoch 25/50\n",
            "3996/3996 [==============================] - 16s 4ms/step - loss: 0.3871 - accuracy: 0.8413 - val_loss: 0.3876 - val_accuracy: 0.8415\n",
            "Epoch 26/50\n",
            "3996/3996 [==============================] - 18s 4ms/step - loss: 0.3843 - accuracy: 0.8427 - val_loss: 0.3857 - val_accuracy: 0.8423\n",
            "Epoch 27/50\n",
            "3996/3996 [==============================] - 17s 4ms/step - loss: 0.3818 - accuracy: 0.8444 - val_loss: 0.3836 - val_accuracy: 0.8428\n",
            "Epoch 28/50\n",
            "3996/3996 [==============================] - 17s 4ms/step - loss: 0.3796 - accuracy: 0.8447 - val_loss: 0.3805 - val_accuracy: 0.8453\n",
            "Epoch 29/50\n",
            "3996/3996 [==============================] - 17s 4ms/step - loss: 0.3775 - accuracy: 0.8461 - val_loss: 0.3787 - val_accuracy: 0.8456\n",
            "Epoch 30/50\n",
            "3996/3996 [==============================] - 16s 4ms/step - loss: 0.3756 - accuracy: 0.8473 - val_loss: 0.3768 - val_accuracy: 0.8469\n",
            "Epoch 31/50\n",
            "3996/3996 [==============================] - 17s 4ms/step - loss: 0.3738 - accuracy: 0.8484 - val_loss: 0.3750 - val_accuracy: 0.8480\n",
            "Epoch 32/50\n",
            "3996/3996 [==============================] - 19s 5ms/step - loss: 0.3721 - accuracy: 0.8490 - val_loss: 0.3738 - val_accuracy: 0.8482\n",
            "Epoch 33/50\n",
            "3996/3996 [==============================] - 17s 4ms/step - loss: 0.3706 - accuracy: 0.8502 - val_loss: 0.3719 - val_accuracy: 0.8495\n",
            "Epoch 34/50\n",
            "3996/3996 [==============================] - 18s 5ms/step - loss: 0.3691 - accuracy: 0.8514 - val_loss: 0.3706 - val_accuracy: 0.8501\n",
            "Epoch 35/50\n",
            "3996/3996 [==============================] - 17s 4ms/step - loss: 0.3676 - accuracy: 0.8521 - val_loss: 0.3693 - val_accuracy: 0.8503\n",
            "Epoch 36/50\n",
            "3996/3996 [==============================] - 17s 4ms/step - loss: 0.3663 - accuracy: 0.8530 - val_loss: 0.3678 - val_accuracy: 0.8514\n",
            "Epoch 37/50\n",
            "3996/3996 [==============================] - 17s 4ms/step - loss: 0.3650 - accuracy: 0.8539 - val_loss: 0.3666 - val_accuracy: 0.8525\n",
            "Epoch 38/50\n",
            "3996/3996 [==============================] - 17s 4ms/step - loss: 0.3638 - accuracy: 0.8549 - val_loss: 0.3663 - val_accuracy: 0.8520\n",
            "Epoch 39/50\n",
            "3996/3996 [==============================] - 19s 5ms/step - loss: 0.3627 - accuracy: 0.8550 - val_loss: 0.3643 - val_accuracy: 0.8535\n",
            "Epoch 40/50\n",
            "3996/3996 [==============================] - 19s 5ms/step - loss: 0.3616 - accuracy: 0.8559 - val_loss: 0.3633 - val_accuracy: 0.8542\n",
            "Epoch 41/50\n",
            "3996/3996 [==============================] - 19s 5ms/step - loss: 0.3605 - accuracy: 0.8564 - val_loss: 0.3624 - val_accuracy: 0.8547\n",
            "Epoch 42/50\n",
            "3996/3996 [==============================] - 18s 5ms/step - loss: 0.3595 - accuracy: 0.8573 - val_loss: 0.3615 - val_accuracy: 0.8547\n",
            "Epoch 43/50\n",
            "3996/3996 [==============================] - 21s 5ms/step - loss: 0.3586 - accuracy: 0.8577 - val_loss: 0.3603 - val_accuracy: 0.8560\n",
            "Epoch 44/50\n",
            "3996/3996 [==============================] - 18s 5ms/step - loss: 0.3576 - accuracy: 0.8582 - val_loss: 0.3594 - val_accuracy: 0.8570\n",
            "Epoch 45/50\n",
            "3996/3996 [==============================] - 19s 5ms/step - loss: 0.3567 - accuracy: 0.8584 - val_loss: 0.3585 - val_accuracy: 0.8575\n",
            "Epoch 46/50\n",
            "3996/3996 [==============================] - 18s 4ms/step - loss: 0.3558 - accuracy: 0.8590 - val_loss: 0.3577 - val_accuracy: 0.8573\n",
            "Epoch 47/50\n",
            "3996/3996 [==============================] - 19s 5ms/step - loss: 0.3550 - accuracy: 0.8594 - val_loss: 0.3571 - val_accuracy: 0.8573\n",
            "Epoch 48/50\n",
            "3996/3996 [==============================] - 19s 5ms/step - loss: 0.3542 - accuracy: 0.8600 - val_loss: 0.3562 - val_accuracy: 0.8574\n",
            "Epoch 49/50\n",
            "3996/3996 [==============================] - 19s 5ms/step - loss: 0.3535 - accuracy: 0.8603 - val_loss: 0.3554 - val_accuracy: 0.8576\n",
            "Epoch 50/50\n",
            "3996/3996 [==============================] - 19s 5ms/step - loss: 0.3527 - accuracy: 0.8608 - val_loss: 0.3546 - val_accuracy: 0.8587\n"
          ]
        },
        {
          "output_type": "execute_result",
          "data": {
            "text/plain": [
              "<keras.callbacks.History at 0x7f61b8f764a0>"
            ]
          },
          "metadata": {},
          "execution_count": 22
        }
      ],
      "source": [
        "model.fit(X_train, y_train, batch_size=20, epochs=50, callbacks=[callback],validation_data=(X_val, y_val))  #se intento con batch size de 30 y con epochs de 20"
      ]
    },
    {
      "cell_type": "code",
      "execution_count": null,
      "metadata": {
        "colab": {
          "base_uri": "https://localhost:8080/"
        },
        "id": "gw9wR38Q3QvS",
        "outputId": "7f9cb2f2-d807-4e13-8a25-0cd6a3faea83"
      },
      "outputs": [
        {
          "output_type": "stream",
          "name": "stdout",
          "text": [
            "781/781 [==============================] - 1s 2ms/step\n",
            "Test Accuracy : 0.8658844259340835\n",
            "\n",
            "Classification Report : \n",
            "              precision    recall  f1-score   support\n",
            "\n",
            "         0.0       0.87      0.90      0.88     14106\n",
            "         1.0       0.86      0.82      0.84     10865\n",
            "\n",
            "    accuracy                           0.87     24971\n",
            "   macro avg       0.87      0.86      0.86     24971\n",
            "weighted avg       0.87      0.87      0.87     24971\n",
            "\n"
          ]
        }
      ],
      "source": [
        "labels = [0,1]\n",
        "Y_preds = model.predict(X_test).argmax(axis=-1)\n",
        "\n",
        "print(\"Test Accuracy : {}\".format(accuracy_score(y_test, Y_preds)))\n",
        "print(\"\\nClassification Report : \")\n",
        "print(classification_report(y_test, Y_preds))"
      ]
    },
    {
      "cell_type": "code",
      "execution_count": 7,
      "metadata": {
        "id": "06yrSxvx3QvS",
        "colab": {
          "base_uri": "https://localhost:8080/"
        },
        "outputId": "7d4969b2-90f8-4f9d-8a46-79a53959ae4a"
      },
      "outputs": [
        {
          "output_type": "stream",
          "name": "stdout",
          "text": [
            "Out-of-the-box MLP classifier\n",
            "Accuracy: 95.92 %\n"
          ]
        },
        {
          "output_type": "stream",
          "name": "stderr",
          "text": [
            "/usr/local/lib/python3.10/dist-packages/sklearn/neural_network/_multilayer_perceptron.py:686: ConvergenceWarning: Stochastic Optimizer: Maximum iterations (200) reached and the optimization hasn't converged yet.\n",
            "  warnings.warn(\n"
          ]
        }
      ],
      "source": [
        "from sklearn.neural_network import MLPClassifier\n",
        "\n",
        "clf = MLPClassifier()\n",
        "\n",
        "clf.fit(X_train, y_train)\n",
        "\n",
        "preds = clf.predict(X_test)\n",
        "\n",
        "acc = accuracy_score(y_test, preds) * 100\n",
        "\n",
        "\n",
        "print('Out-of-the-box MLP classifier')\n",
        "print('Accuracy: {:.2f} %'.format(acc))"
      ]
    },
    {
      "cell_type": "code",
      "source": [
        "print(classification_report(y_test, preds))"
      ],
      "metadata": {
        "colab": {
          "base_uri": "https://localhost:8080/"
        },
        "id": "HvlPsgN6oaVq",
        "outputId": "5b222843-b5f6-4a88-b323-268c78542ec5"
      },
      "execution_count": 9,
      "outputs": [
        {
          "output_type": "stream",
          "name": "stdout",
          "text": [
            "              precision    recall  f1-score   support\n",
            "\n",
            "         0.0       0.96      0.97      0.96     14106\n",
            "         1.0       0.96      0.95      0.95     10865\n",
            "\n",
            "    accuracy                           0.96     24971\n",
            "   macro avg       0.96      0.96      0.96     24971\n",
            "weighted avg       0.96      0.96      0.96     24971\n",
            "\n"
          ]
        }
      ]
    }
  ],
  "metadata": {
    "kernelspec": {
      "display_name": "Python 3",
      "name": "python3"
    },
    "language_info": {
      "codemirror_mode": {
        "name": "ipython",
        "version": 3
      },
      "file_extension": ".py",
      "mimetype": "text/x-python",
      "name": "python",
      "nbconvert_exporter": "python",
      "pygments_lexer": "ipython3",
      "version": "3.11.2"
    },
    "orig_nbformat": 4,
    "colab": {
      "provenance": [],
      "gpuType": "T4"
    },
    "accelerator": "GPU"
  },
  "nbformat": 4,
  "nbformat_minor": 0
}